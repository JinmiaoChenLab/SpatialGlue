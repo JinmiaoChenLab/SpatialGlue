{
 "cells": [
  {
   "cell_type": "markdown",
   "id": "6854a4f4",
   "metadata": {},
   "source": [
    "# Loading package"
   ]
  },
  {
   "cell_type": "code",
   "execution_count": 1,
   "id": "51835c0e",
   "metadata": {},
   "outputs": [
    {
     "name": "stderr",
     "output_type": "stream",
     "text": [
      "/home/yahui/anaconda3/envs/scvi/lib/python3.9/site-packages/umap/distances.py:1063: NumbaDeprecationWarning: \u001b[1mThe 'nopython' keyword argument was not supplied to the 'numba.jit' decorator. The implicit default value for this argument is currently False, but it will be changed to True in Numba 0.59.0. See https://numba.readthedocs.io/en/stable/reference/deprecation.html#deprecation-of-object-mode-fall-back-behaviour-when-using-jit for details.\u001b[0m\n",
      "  @numba.jit()\n",
      "/home/yahui/anaconda3/envs/scvi/lib/python3.9/site-packages/umap/distances.py:1071: NumbaDeprecationWarning: \u001b[1mThe 'nopython' keyword argument was not supplied to the 'numba.jit' decorator. The implicit default value for this argument is currently False, but it will be changed to True in Numba 0.59.0. See https://numba.readthedocs.io/en/stable/reference/deprecation.html#deprecation-of-object-mode-fall-back-behaviour-when-using-jit for details.\u001b[0m\n",
      "  @numba.jit()\n",
      "/home/yahui/anaconda3/envs/scvi/lib/python3.9/site-packages/umap/distances.py:1086: NumbaDeprecationWarning: \u001b[1mThe 'nopython' keyword argument was not supplied to the 'numba.jit' decorator. The implicit default value for this argument is currently False, but it will be changed to True in Numba 0.59.0. See https://numba.readthedocs.io/en/stable/reference/deprecation.html#deprecation-of-object-mode-fall-back-behaviour-when-using-jit for details.\u001b[0m\n",
      "  @numba.jit()\n",
      "/home/yahui/anaconda3/envs/scvi/lib/python3.9/site-packages/tqdm/auto.py:21: TqdmWarning: IProgress not found. Please update jupyter and ipywidgets. See https://ipywidgets.readthedocs.io/en/stable/user_install.html\n",
      "  from .autonotebook import tqdm as notebook_tqdm\n",
      "/home/yahui/anaconda3/envs/scvi/lib/python3.9/site-packages/umap/umap_.py:660: NumbaDeprecationWarning: \u001b[1mThe 'nopython' keyword argument was not supplied to the 'numba.jit' decorator. The implicit default value for this argument is currently False, but it will be changed to True in Numba 0.59.0. See https://numba.readthedocs.io/en/stable/reference/deprecation.html#deprecation-of-object-mode-fall-back-behaviour-when-using-jit for details.\u001b[0m\n",
      "  @numba.jit()\n",
      "/home/yahui/anaconda3/envs/scvi/lib/python3.9/site-packages/scvi/_settings.py:63: UserWarning: Since v1.0.0, scvi-tools no longer uses a random seed by default. Run `scvi.settings.seed = 0` to reproduce results from previous versions.\n",
      "  self.seed = seed\n",
      "/home/yahui/anaconda3/envs/scvi/lib/python3.9/site-packages/scvi/_settings.py:70: UserWarning: Setting `dl_pin_memory_gpu_training` is deprecated in v1.0 and will be removed in v1.1. Please pass in `pin_memory` to the data loaders instead.\n",
      "  self.dl_pin_memory_gpu_training = (\n",
      "Global seed set to 1234\n"
     ]
    }
   ],
   "source": [
    "import anndata as ad\n",
    "import matplotlib.pyplot as plt\n",
    "import mudata as md\n",
    "import muon\n",
    "import scanpy as sc\n",
    "import scvi\n",
    "import time\n",
    "\n",
    "t = time.time()\n",
    "scvi.settings.seed = 1234"
   ]
  },
  {
   "cell_type": "code",
   "execution_count": 2,
   "id": "0b396d00",
   "metadata": {},
   "outputs": [],
   "source": [
    "sc.set_figure_params(figsize=(4, 4))\n",
    "\n",
    "%config InlineBackend.print_figure_kwargs={'facecolor' : \"w\"}\n",
    "%config InlineBackend.figure_format='retina'"
   ]
  },
  {
   "cell_type": "code",
   "execution_count": 3,
   "id": "cd41d2df",
   "metadata": {},
   "outputs": [
    {
     "name": "stderr",
     "output_type": "stream",
     "text": [
      "/home/yahui/anaconda3/envs/scvi/lib/python3.9/site-packages/anndata/_core/anndata.py:1830: UserWarning: Variable names are not unique. To make them unique, call `.var_names_make_unique`.\n",
      "  utils.warn_names_duplicates(\"var\")\n"
     ]
    }
   ],
   "source": [
    "dataset = 'Dataset1_Mouse_Spleen1'\n",
    "adata_rna = sc.read_h5ad('../data/' + dataset + '/adata_RNA.h5ad')\n",
    "adata_adt = sc.read_h5ad('../data/' + dataset + '/adata_Pro.h5ad')\n",
    "adata_rna.var_names_make_unique()\n",
    "adata_adt.var_names_make_unique()"
   ]
  },
  {
   "cell_type": "code",
   "execution_count": 4,
   "id": "5cf35b82",
   "metadata": {},
   "outputs": [
    {
     "data": {
      "text/plain": [
       "Index(['CD29', 'CD3', 'F4_80', 'CD169_siglec', 'CD4', 'CD19', 'CD105', 'CD8',\n",
       "       'B220_CD45R', 'Ly6C', 'CD31', 'CD68', 'EpCAM', 'CD163', 'Ly6G', 'CD38',\n",
       "       'IgM', 'IgD', 'MadCAM1', 'CD20', 'CD11b'],\n",
       "      dtype='object')"
      ]
     },
     "execution_count": 4,
     "metadata": {},
     "output_type": "execute_result"
    }
   ],
   "source": [
    "adata_adt.var_names"
   ]
  },
  {
   "cell_type": "code",
   "execution_count": 5,
   "id": "f424df77",
   "metadata": {},
   "outputs": [],
   "source": [
    "adata_rna.obs['batch'] = 'Thymus'\n",
    "adata_rna.layers['counts'] = adata_rna.X.copy()"
   ]
  },
  {
   "cell_type": "code",
   "execution_count": 6,
   "id": "1956e697",
   "metadata": {},
   "outputs": [
    {
     "data": {
      "text/html": [
       "<pre>MuData object with n_obs × n_vars = 2568 × 32306\n",
       "  2 modalities\n",
       "    rna:\t2568 x 32285\n",
       "      obs:\t&#x27;batch&#x27;\n",
       "      var:\t&#x27;gene_ids&#x27;, &#x27;feature_types&#x27;, &#x27;genome&#x27;\n",
       "      obsm:\t&#x27;spatial&#x27;\n",
       "      layers:\t&#x27;counts&#x27;\n",
       "    protein:\t2568 x 21\n",
       "      obsm:\t&#x27;spatial&#x27;</pre>"
      ],
      "text/plain": [
       "MuData object with n_obs × n_vars = 2568 × 32306\n",
       "  2 modalities\n",
       "    rna:\t2568 x 32285\n",
       "      obs:\t'batch'\n",
       "      var:\t'gene_ids', 'feature_types', 'genome'\n",
       "      obsm:\t'spatial'\n",
       "      layers:\t'counts'\n",
       "    protein:\t2568 x 21\n",
       "      obsm:\t'spatial'"
      ]
     },
     "execution_count": 6,
     "metadata": {},
     "output_type": "execute_result"
    }
   ],
   "source": [
    "mdata = md.MuData({\"rna\": adata_rna, \"protein\": adata_adt})\n",
    "mdata"
   ]
  },
  {
   "cell_type": "code",
   "execution_count": 7,
   "id": "ce77ffa4",
   "metadata": {},
   "outputs": [
    {
     "data": {
      "text/plain": [
       "AnnData object with n_obs × n_vars = 2568 × 32285\n",
       "    obs: 'batch'\n",
       "    var: 'gene_ids', 'feature_types', 'genome'\n",
       "    obsm: 'spatial'\n",
       "    layers: 'counts'"
      ]
     },
     "execution_count": 7,
     "metadata": {},
     "output_type": "execute_result"
    }
   ],
   "source": [
    "mdata.mod['rna']"
   ]
  },
  {
   "cell_type": "code",
   "execution_count": 8,
   "id": "42114e94",
   "metadata": {},
   "outputs": [],
   "source": [
    "sc.pp.highly_variable_genes(\n",
    "    mdata.mod[\"rna\"],\n",
    "    n_top_genes=4000,\n",
    "    flavor=\"seurat_v3\",\n",
    "    batch_key=\"batch\",\n",
    "    layer=\"counts\",\n",
    ")\n",
    "# Place subsetted counts in a new modality\n",
    "mdata.mod[\"rna_subset\"] = mdata.mod[\"rna\"][\n",
    "    :, mdata.mod[\"rna\"].var[\"highly_variable\"]\n",
    "].copy()"
   ]
  },
  {
   "cell_type": "code",
   "execution_count": 9,
   "id": "6189f551",
   "metadata": {},
   "outputs": [
    {
     "data": {
      "text/html": [
       "<pre>MuData object with n_obs × n_vars = 2568 × 32306\n",
       "  3 modalities\n",
       "    rna:\t2568 x 32285\n",
       "      obs:\t&#x27;batch&#x27;\n",
       "      var:\t&#x27;gene_ids&#x27;, &#x27;feature_types&#x27;, &#x27;genome&#x27;, &#x27;highly_variable&#x27;, &#x27;highly_variable_rank&#x27;, &#x27;means&#x27;, &#x27;variances&#x27;, &#x27;variances_norm&#x27;, &#x27;highly_variable_nbatches&#x27;\n",
       "      uns:\t&#x27;hvg&#x27;\n",
       "      obsm:\t&#x27;spatial&#x27;\n",
       "      layers:\t&#x27;counts&#x27;\n",
       "    protein:\t2568 x 21\n",
       "      obsm:\t&#x27;spatial&#x27;\n",
       "    rna_subset:\t2568 x 4000\n",
       "      obs:\t&#x27;batch&#x27;\n",
       "      var:\t&#x27;gene_ids&#x27;, &#x27;feature_types&#x27;, &#x27;genome&#x27;, &#x27;highly_variable&#x27;, &#x27;highly_variable_rank&#x27;, &#x27;means&#x27;, &#x27;variances&#x27;, &#x27;variances_norm&#x27;, &#x27;highly_variable_nbatches&#x27;\n",
       "      uns:\t&#x27;hvg&#x27;\n",
       "      obsm:\t&#x27;spatial&#x27;\n",
       "      layers:\t&#x27;counts&#x27;</pre>"
      ],
      "text/plain": [
       "MuData object with n_obs × n_vars = 2568 × 32306\n",
       "  3 modalities\n",
       "    rna:\t2568 x 32285\n",
       "      obs:\t'batch'\n",
       "      var:\t'gene_ids', 'feature_types', 'genome', 'highly_variable', 'highly_variable_rank', 'means', 'variances', 'variances_norm', 'highly_variable_nbatches'\n",
       "      uns:\t'hvg'\n",
       "      obsm:\t'spatial'\n",
       "      layers:\t'counts'\n",
       "    protein:\t2568 x 21\n",
       "      obsm:\t'spatial'\n",
       "    rna_subset:\t2568 x 4000\n",
       "      obs:\t'batch'\n",
       "      var:\t'gene_ids', 'feature_types', 'genome', 'highly_variable', 'highly_variable_rank', 'means', 'variances', 'variances_norm', 'highly_variable_nbatches'\n",
       "      uns:\t'hvg'\n",
       "      obsm:\t'spatial'\n",
       "      layers:\t'counts'"
      ]
     },
     "execution_count": 9,
     "metadata": {},
     "output_type": "execute_result"
    }
   ],
   "source": [
    "mdata"
   ]
  },
  {
   "cell_type": "code",
   "execution_count": 10,
   "id": "18b41210",
   "metadata": {},
   "outputs": [
    {
     "name": "stderr",
     "output_type": "stream",
     "text": [
      "/home/yahui/anaconda3/envs/scvi/lib/python3.9/site-packages/mudata/_core/mudata.py:491: UserWarning: Cannot join columns with the same name because var_names are intersecting.\n",
      "  warnings.warn(\n"
     ]
    }
   ],
   "source": [
    "mdata.update()"
   ]
  },
  {
   "cell_type": "markdown",
   "id": "3dfc122b",
   "metadata": {},
   "source": [
    "# Training totalVI model"
   ]
  },
  {
   "cell_type": "code",
   "execution_count": 11,
   "id": "38d7b92c",
   "metadata": {},
   "outputs": [
    {
     "name": "stderr",
     "output_type": "stream",
     "text": [
      "No GPU/TPU found, falling back to CPU. (Set TF_CPP_MIN_LOG_LEVEL=0 and rerun for more info.)\n"
     ]
    }
   ],
   "source": [
    "scvi.model.TOTALVI.setup_mudata(\n",
    "    mdata,\n",
    "    rna_layer=\"counts\",\n",
    "    protein_layer=None,\n",
    "    batch_key=\"batch\",\n",
    "    modalities={\n",
    "        \"rna_layer\": \"rna_subset\",\n",
    "        \"protein_layer\": \"protein\",\n",
    "        \"batch_key\": \"rna_subset\",\n",
    "    },\n",
    ")"
   ]
  },
  {
   "cell_type": "code",
   "execution_count": 12,
   "id": "0eb07ed0",
   "metadata": {},
   "outputs": [
    {
     "name": "stdout",
     "output_type": "stream",
     "text": [
      "\u001b[34mINFO    \u001b[0m Computing empirical prior initialization for protein background.                                          \n"
     ]
    }
   ],
   "source": [
    "vae = scvi.model.TOTALVI(mdata)"
   ]
  },
  {
   "cell_type": "code",
   "execution_count": 13,
   "id": "3ecbaa2f",
   "metadata": {},
   "outputs": [
    {
     "name": "stderr",
     "output_type": "stream",
     "text": [
      "GPU available: True (cuda), used: True\n",
      "TPU available: False, using: 0 TPU cores\n",
      "IPU available: False, using: 0 IPUs\n",
      "HPU available: False, using: 0 HPUs\n",
      "You are using a CUDA device ('NVIDIA RTX A6000') that has Tensor Cores. To properly utilize them, you should set `torch.set_float32_matmul_precision('medium' | 'high')` which will trade-off precision for performance. For more details, read https://pytorch.org/docs/stable/generated/torch.set_float32_matmul_precision.html#torch.set_float32_matmul_precision\n",
      "LOCAL_RANK: 0 - CUDA_VISIBLE_DEVICES: [0,1,2,3]\n",
      "/home/yahui/anaconda3/envs/scvi/lib/python3.9/site-packages/lightning/pytorch/core/optimizer.py:306: RuntimeWarning: The lr scheduler dict contains the key(s) ['monitor'], but the keys will be ignored. You need to call `lr_scheduler.step()` manually in manual optimization.\n",
      "  rank_zero_warn(\n"
     ]
    },
    {
     "name": "stdout",
     "output_type": "stream",
     "text": [
      "Epoch 377/400:  94%|███████████████████████████████████████████████████████████████████████████████▉     | 376/400 [02:05<00:07,  3.14it/s, v_num=1, train_loss_step=2.83e+3, train_loss_epoch=2.51e+3]Epoch 00377: reducing learning rate of group 0 to 2.4000e-03.\n",
      "Epoch 400/400: 100%|█████████████████████████████████████████████████████████████████████████████████████| 400/400 [02:13<00:00,  3.14it/s, v_num=1, train_loss_step=2.59e+3, train_loss_epoch=2.49e+3]"
     ]
    },
    {
     "name": "stderr",
     "output_type": "stream",
     "text": [
      "`Trainer.fit` stopped: `max_epochs=400` reached.\n"
     ]
    },
    {
     "name": "stdout",
     "output_type": "stream",
     "text": [
      "Epoch 400/400: 100%|█████████████████████████████████████████████████████████████████████████████████████| 400/400 [02:13<00:00,  3.00it/s, v_num=1, train_loss_step=2.59e+3, train_loss_epoch=2.49e+3]\n"
     ]
    }
   ],
   "source": [
    "vae.train()"
   ]
  },
  {
   "cell_type": "code",
   "execution_count": 14,
   "id": "383cc6af",
   "metadata": {},
   "outputs": [
    {
     "data": {
      "text/plain": [
       "<matplotlib.legend.Legend at 0x7f3a508a5bb0>"
      ]
     },
     "execution_count": 14,
     "metadata": {},
     "output_type": "execute_result"
    },
    {
     "data": {
      "image/png": "[encoded data removed]",
      "text/plain": [
       "<Figure size 320x320 with 1 Axes>"
      ]
     },
     "metadata": {
      "image/png": {
       "height": 318,
       "width": 310
      }
     },
     "output_type": "display_data"
    }
   ],
   "source": [
    "fig, ax = plt.subplots(1, 1)\n",
    "vae.history[\"elbo_train\"].plot(ax=ax, label=\"train\")\n",
    "vae.history[\"elbo_validation\"].plot(ax=ax, label=\"validation\")\n",
    "ax.set(title=\"Negative ELBO over training epochs\", ylim=(1200, 1400))\n",
    "ax.legend()"
   ]
  },
  {
   "cell_type": "markdown",
   "id": "836cdaeb",
   "metadata": {},
   "source": [
    "# Reading totalVI model output"
   ]
  },
  {
   "cell_type": "code",
   "execution_count": 15,
   "id": "dd5a618c",
   "metadata": {},
   "outputs": [],
   "source": [
    "rna = mdata.mod[\"rna_subset\"]\n",
    "protein = mdata.mod[\"protein\"]\n",
    "# arbitrarily store latent in rna modality\n",
    "rna.obsm[\"X_totalVI\"] = vae.get_latent_representation()"
   ]
  },
  {
   "cell_type": "code",
   "execution_count": 16,
   "id": "eb453602",
   "metadata": {},
   "outputs": [],
   "source": [
    "#rna.write_h5ad('../adata_totalVI.h5ad')"
   ]
  }
 ],
 "metadata": {
  "kernelspec": {
   "display_name": "scvi",
   "language": "python",
   "name": "scvi"
  },
  "language_info": {
   "codemirror_mode": {
    "name": "ipython",
    "version": 3
   },
   "file_extension": ".py",
   "mimetype": "text/x-python",
   "name": "python",
   "nbconvert_exporter": "python",
   "pygments_lexer": "ipython3",
   "version": "3.9.16"
  }
 },
 "nbformat": 4,
 "nbformat_minor": 5
}
