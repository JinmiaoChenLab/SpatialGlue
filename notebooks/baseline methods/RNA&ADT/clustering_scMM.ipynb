{
 "cells": [
  {
   "cell_type": "markdown",
   "id": "1c10cae6",
   "metadata": {},
   "source": [
    "# After scMM model training, transforming output into latent representation"
   ]
  },
  {
   "cell_type": "code",
   "execution_count": 5,
   "id": "71727494",
   "metadata": {},
   "outputs": [],
   "source": [
    "import pandas as pd\n",
    "import scanpy as sc"
   ]
  },
  {
   "cell_type": "code",
   "execution_count": 6,
   "id": "f6777cd8",
   "metadata": {},
   "outputs": [],
   "source": [
    "def clustering(adata, path):\n",
    "    # read scMM output\n",
    "    df_train = pd.read_csv(path + 'lat_train_mean.csv', index_col=0)\n",
    "    df_test = pd.read_csv(path + 'lat_test_mean.csv', index_col=0)\n",
    "    id_train = pd.read_csv(path + 't_id.csv', index_col=0)\n",
    "    id_test = pd.read_csv(path + 's_id.csv', index_col=0)\n",
    "\n",
    "    # combine latent representation with cell id \n",
    "    df = pd.concat((df_train, df_test))\n",
    "    id = pd.concat((id_train, id_test))\n",
    "    id.rename(columns={\"0\": \"ID\"}, inplace=True)\n",
    "    \n",
    "    df = pd.concat((id, df),axis=1)\n",
    "    df.set_index('ID', inplace=True)\n",
    "    df.sort_index(inplace=True)\n",
    "\n",
    "    adata_new = sc.AnnData(df, \n",
    "                    df.index.to_frame(), \n",
    "                    df.columns.to_frame())\n",
    "    adata_new.obsm['spatial'] = adata.obsm['spatial']\n",
    "    \n",
    "    #add latent representation to adata\n",
    "    adata.obsm['X_scMM'] = adata_new.X\n",
    "    \n",
    "    # downstream analysis\n",
    "    #sc.pp.neighbors(adata_new, n_neighbors=10)\n",
    "    #sc.tl.umap(adata_new)\n",
    "    #sc.tl.leiden(adata_new, resolution=0.5)\n",
    "\n",
    "    #sc.pl.umap(adata_new, color='leiden')\n",
    "    #sc.pl.embedding(adata_new, basis='spatial', color='leiden',s=60)\n",
    "    \n",
    "    return adata"
   ]
  },
  {
   "cell_type": "code",
   "execution_count": 13,
   "id": "c487d591",
   "metadata": {},
   "outputs": [
    {
     "name": "stderr",
     "output_type": "stream",
     "text": [
      "/home/yahui/anaconda3/envs/scMM/lib/python3.8/site-packages/anndata/_core/anndata.py:121: ImplicitModificationWarning: Transforming to str index.\n",
      "  warnings.warn(\"Transforming to str index.\", ImplicitModificationWarning)\n"
     ]
    }
   ],
   "source": [
    "dataset = 'Simulation5'\n",
    "path = '../scMM/experiments/rna_protein/' + dataset + '/'\n",
    "adata = sc.read_h5ad('../data/' + dataset + '/adata_RNA.h5ad')\n",
    "adata = clustering(adata, path)"
   ]
  },
  {
   "cell_type": "code",
   "execution_count": 14,
   "id": "d0bbde86",
   "metadata": {},
   "outputs": [],
   "source": [
    "# save result\n",
    "adata.write_h5ad('../result/' + dataset + '/adata_scMM.h5ad')"
   ]
  }
 ],
 "metadata": {
  "kernelspec": {
   "display_name": "scMM",
   "language": "python",
   "name": "scmm"
  },
  "language_info": {
   "codemirror_mode": {
    "name": "ipython",
    "version": 3
   },
   "file_extension": ".py",
   "mimetype": "text/x-python",
   "name": "python",
   "nbconvert_exporter": "python",
   "pygments_lexer": "ipython3",
   "version": "3.8.17"
  }
 },
 "nbformat": 4,
 "nbformat_minor": 5
}
