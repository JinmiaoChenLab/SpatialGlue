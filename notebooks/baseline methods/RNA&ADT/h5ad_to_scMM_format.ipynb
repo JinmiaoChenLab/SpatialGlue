{
 "cells": [
  {
   "cell_type": "markdown",
   "id": "641cda1d",
   "metadata": {},
   "source": [
    "# Before scMM running, transforming modality data into scMM format"
   ]
  },
  {
   "cell_type": "code",
   "execution_count": 1,
   "id": "bfa37c5e",
   "metadata": {},
   "outputs": [],
   "source": [
    "import pandas as pd\n",
    "import scanpy as sc\n",
    "from scipy import sparse\n",
    "from scipy.sparse import issparse"
   ]
  },
  {
   "cell_type": "code",
   "execution_count": 2,
   "id": "2aba0145",
   "metadata": {},
   "outputs": [],
   "source": [
    "dataset = 'Dataset1_Mouse_Spleen1'"
   ]
  },
  {
   "cell_type": "code",
   "execution_count": 3,
   "id": "a1bcb0ed",
   "metadata": {},
   "outputs": [
    {
     "name": "stderr",
     "output_type": "stream",
     "text": [
      "/home/yahui/anaconda3/envs/scMM/lib/python3.8/site-packages/anndata/_core/anndata.py:1840: UserWarning: Variable names are not unique. To make them unique, call `.var_names_make_unique`.\n",
      "  utils.warn_names_duplicates(\"var\")\n"
     ]
    }
   ],
   "source": [
    "# Thymus\n",
    "adata_RNA = sc.read_h5ad('../data/' + dataset + '/adata_RNA.h5ad')\n",
    "adata_ADT = sc.read_h5ad('../data/' + dataset + '/adata_Pro.h5ad')"
   ]
  },
  {
   "cell_type": "code",
   "execution_count": 4,
   "id": "71e2a560",
   "metadata": {},
   "outputs": [],
   "source": [
    "# if expression matrix is dense matrix, need to tranform to sparse matrix\n",
    "if not issparse(adata_RNA.X):\n",
    "    adata_RNA.X = sparse.coo_matrix(adata_RNA.X)\n",
    "if not issparse(adata_ADT.X):    \n",
    "    adata_ADT.X = sparse.coo_matrix(adata_ADT.X)"
   ]
  },
  {
   "cell_type": "markdown",
   "id": "5e125eee",
   "metadata": {},
   "source": [
    "# RNA+Protein"
   ]
  },
  {
   "cell_type": "code",
   "execution_count": 6,
   "id": "7b076bba",
   "metadata": {},
   "outputs": [],
   "source": [
    "# RNA\n",
    "from scipy.io import mmwrite\n",
    "RNA_count = adata_RNA.X.copy()\n",
    "mmwrite(\"/home/yahui/anaconda3/work/scMM/data/\" + dataset + \"/RNA-seq/RNA_count.mtx\", RNA_count.T)\n",
    "\n",
    "barcode = pd.DataFrame(index=adata_RNA.obs_names)\n",
    "barcode.to_csv('/home/yahui/anaconda3/work/scMM/data/' + dataset + '/RNA-seq/barcode.tsv', sep='\\t', header=None)\n",
    "\n",
    "gene = pd.DataFrame(index=adata_RNA.var_names)\n",
    "gene.to_csv('/home/yahui/anaconda3/work/scMM/data/' + dataset + '/RNA-seq/gene.tsv', sep='\\t', header=None)"
   ]
  },
  {
   "cell_type": "code",
   "execution_count": 7,
   "id": "167121e3",
   "metadata": {},
   "outputs": [],
   "source": [
    "# ADT\n",
    "Protein_count = adata_ADT.X.copy()\n",
    "mmwrite(\"/home/yahui/anaconda3/work/scMM/data/\" + dataset + \"/CITE-seq/Protein_count.mtx\", Protein_count.T)\n",
    "\n",
    "barcode = pd.DataFrame(index=adata_ADT.obs_names)\n",
    "barcode.to_csv('/home/yahui/anaconda3/work/scMM/data/' + dataset + '/CITE-seq/barcode.tsv', sep='\\t', header=None)\n",
    "\n",
    "protein = pd.DataFrame(index=adata_ADT.var_names)\n",
    "protein.to_csv('/home/yahui/anaconda3/work/scMM/data/' + dataset + '/CITE-seq/protein.tsv', sep='\\t', header=None)"
   ]
  },
  {
   "cell_type": "markdown",
   "id": "b2acb35a",
   "metadata": {},
   "source": [
    "# RNA+ATAC"
   ]
  },
  {
   "cell_type": "code",
   "execution_count": 10,
   "id": "2a121422",
   "metadata": {},
   "outputs": [],
   "source": [
    "dataset = 'Dataset10_Mouse_Brain4'"
   ]
  },
  {
   "cell_type": "code",
   "execution_count": 11,
   "id": "dbc7880d",
   "metadata": {},
   "outputs": [],
   "source": [
    "# mouse brain P22\n",
    "adata_RNA = sc.read_h5ad('../data/' + dataset + '/adata_RNA.h5ad')\n",
    "adata_ATAC = sc.read_h5ad('../data/' + dataset + '/adata_peaks.h5ad')"
   ]
  },
  {
   "cell_type": "code",
   "execution_count": 12,
   "id": "3ada3cfb",
   "metadata": {},
   "outputs": [],
   "source": [
    "# RNA\n",
    "from scipy.io import mmwrite\n",
    "RNA_count = adata_RNA.X.copy()\n",
    "mmwrite(\"/home/yahui/anaconda3/work/scMM/data/\" + dataset + \"/RNA-seq/RNA_count.mtx\", RNA_count.T)\n",
    "\n",
    "barcode = pd.DataFrame(index=adata_RNA.obs_names)\n",
    "barcode.to_csv('/home/yahui/anaconda3/work/scMM/data/' + dataset + '/RNA-seq/barcode.tsv', sep='\\t', header=None)\n",
    "\n",
    "gene = pd.DataFrame(index=adata_RNA.var_names)\n",
    "gene.to_csv('/home/yahui/anaconda3/work/scMM/data/' + dataset + '/RNA-seq/gene.tsv', sep='\\t', header=None)"
   ]
  },
  {
   "cell_type": "code",
   "execution_count": 13,
   "id": "dc196bd3",
   "metadata": {},
   "outputs": [],
   "source": [
    "# ATAC\n",
    "ATAC_count = adata_ATAC.X.copy()\n",
    "mmwrite(\"/home/yahui/anaconda3/work/scMM/data/\" + dataset + \"/ATAC-seq/ATAC_count.mtx\", ATAC_count.T)\n",
    "\n",
    "barcode = pd.DataFrame(index=adata_ATAC.obs_names)\n",
    "barcode.to_csv('/home/yahui/anaconda3/work/scMM/data/' + dataset + '/ATAC-seq/barcode.tsv', sep='\\t', header=None)\n",
    "\n",
    "ATAC = pd.DataFrame(index=adata_ATAC.var_names)\n",
    "ATAC.to_csv('/home/yahui/anaconda3/work/scMM/data/' + dataset + '/ATAC-seq/peak.tsv', sep='\\t', header=None)"
   ]
  }
 ],
 "metadata": {
  "kernelspec": {
   "display_name": "scMM",
   "language": "python",
   "name": "scmm"
  },
  "language_info": {
   "codemirror_mode": {
    "name": "ipython",
    "version": 3
   },
   "file_extension": ".py",
   "mimetype": "text/x-python",
   "name": "python",
   "nbconvert_exporter": "python",
   "pygments_lexer": "ipython3",
   "version": "3.8.17"
  }
 },
 "nbformat": 4,
 "nbformat_minor": 5
}
